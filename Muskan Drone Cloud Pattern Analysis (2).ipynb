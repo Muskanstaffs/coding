{
 "cells": [
  {
   "cell_type": "code",
   "execution_count": 1,
   "id": "07f75fce",
   "metadata": {},
   "outputs": [],
   "source": [
    "#Importing the required packages\n",
    "import os\n",
    "import numpy as np\n",
    "import pandas as pd\n",
    "import matplotlib.pyplot as plt\n",
    "from sklearn.model_selection import train_test_split\n",
    "from tensorflow.keras.models import Sequential\n",
    "from tensorflow.keras.preprocessing.image import load_img, img_to_array\n",
    "from keras.preprocessing.image import ImageDataGenerator\n",
    "from tensorflow.keras.utils import to_categorical\n",
    "from tensorflow.keras.layers import Conv2D, MaxPooling2D, Flatten, Dense,BatchNormalization, Dropout"
   ]
  },
  {
   "cell_type": "code",
   "execution_count": 2,
   "id": "9dfbf972",
   "metadata": {},
   "outputs": [],
   "source": [
    "# Load the drone cloud pattern data\n",
    "training_data=pd.read_csv(r\"C:\\\\Muskan\\train.csv\")"
   ]
  },
  {
   "cell_type": "code",
   "execution_count": 3,
   "id": "77dd2060",
   "metadata": {},
   "outputs": [
    {
     "data": {
      "text/html": [
       "<div>\n",
       "<style scoped>\n",
       "    .dataframe tbody tr th:only-of-type {\n",
       "        vertical-align: middle;\n",
       "    }\n",
       "\n",
       "    .dataframe tbody tr th {\n",
       "        vertical-align: top;\n",
       "    }\n",
       "\n",
       "    .dataframe thead th {\n",
       "        text-align: right;\n",
       "    }\n",
       "</style>\n",
       "<table border=\"1\" class=\"dataframe\">\n",
       "  <thead>\n",
       "    <tr style=\"text-align: right;\">\n",
       "      <th></th>\n",
       "      <th>Image_Label</th>\n",
       "      <th>EncodedPixels</th>\n",
       "    </tr>\n",
       "  </thead>\n",
       "  <tbody>\n",
       "    <tr>\n",
       "      <th>0</th>\n",
       "      <td>0011165.jpg_Fish</td>\n",
       "      <td>264918 937 266318 937 267718 937 269118 937 27...</td>\n",
       "    </tr>\n",
       "    <tr>\n",
       "      <th>1</th>\n",
       "      <td>0011165.jpg_Flower</td>\n",
       "      <td>1355565 1002 1356965 1002 1358365 1002 1359765...</td>\n",
       "    </tr>\n",
       "    <tr>\n",
       "      <th>2</th>\n",
       "      <td>0011165.jpg_Gravel</td>\n",
       "      <td>NaN</td>\n",
       "    </tr>\n",
       "    <tr>\n",
       "      <th>3</th>\n",
       "      <td>0011165.jpg_Sugar</td>\n",
       "      <td>NaN</td>\n",
       "    </tr>\n",
       "    <tr>\n",
       "      <th>4</th>\n",
       "      <td>002be4f.jpg_Fish</td>\n",
       "      <td>233813 878 235213 878 236613 878 238010 881 23...</td>\n",
       "    </tr>\n",
       "  </tbody>\n",
       "</table>\n",
       "</div>"
      ],
      "text/plain": [
       "          Image_Label                                      EncodedPixels\n",
       "0    0011165.jpg_Fish  264918 937 266318 937 267718 937 269118 937 27...\n",
       "1  0011165.jpg_Flower  1355565 1002 1356965 1002 1358365 1002 1359765...\n",
       "2  0011165.jpg_Gravel                                                NaN\n",
       "3   0011165.jpg_Sugar                                                NaN\n",
       "4    002be4f.jpg_Fish  233813 878 235213 878 236613 878 238010 881 23..."
      ]
     },
     "execution_count": 3,
     "metadata": {},
     "output_type": "execute_result"
    }
   ],
   "source": [
    "#First few rows of training dataset\n",
    "training_data.head(5)"
   ]
  },
  {
   "cell_type": "code",
   "execution_count": 4,
   "id": "58b6b960",
   "metadata": {},
   "outputs": [],
   "source": [
    "#Preprocessing of the data\n",
    "training_data['Label'] = training_data.Image_Label.str.split('_').str[1]"
   ]
  },
  {
   "cell_type": "code",
   "execution_count": 5,
   "id": "70b09664",
   "metadata": {},
   "outputs": [],
   "source": [
    "#Removing EncodedPixels which have null values\n",
    "training_data = training_data.dropna(subset=['EncodedPixels'])"
   ]
  },
  {
   "cell_type": "code",
   "execution_count": 6,
   "id": "640dcf74",
   "metadata": {},
   "outputs": [],
   "source": [
    "#Creating the independent and the dependent datasets\n",
    "training_data['Image'] = training_data.Image_Label.str.split('_').str[0]\n",
    "training_data['Label'] = training_data.Image_Label.str.split('_').str[1]"
   ]
  },
  {
   "cell_type": "code",
   "execution_count": 7,
   "id": "3c09601b",
   "metadata": {},
   "outputs": [
    {
     "data": {
      "text/html": [
       "<div>\n",
       "<style scoped>\n",
       "    .dataframe tbody tr th:only-of-type {\n",
       "        vertical-align: middle;\n",
       "    }\n",
       "\n",
       "    .dataframe tbody tr th {\n",
       "        vertical-align: top;\n",
       "    }\n",
       "\n",
       "    .dataframe thead th {\n",
       "        text-align: right;\n",
       "    }\n",
       "</style>\n",
       "<table border=\"1\" class=\"dataframe\">\n",
       "  <thead>\n",
       "    <tr style=\"text-align: right;\">\n",
       "      <th></th>\n",
       "      <th>Image_Label</th>\n",
       "      <th>EncodedPixels</th>\n",
       "      <th>Label</th>\n",
       "      <th>Image</th>\n",
       "    </tr>\n",
       "  </thead>\n",
       "  <tbody>\n",
       "    <tr>\n",
       "      <th>0</th>\n",
       "      <td>0011165.jpg_Fish</td>\n",
       "      <td>264918 937 266318 937 267718 937 269118 937 27...</td>\n",
       "      <td>Fish</td>\n",
       "      <td>0011165.jpg</td>\n",
       "    </tr>\n",
       "    <tr>\n",
       "      <th>1</th>\n",
       "      <td>0011165.jpg_Flower</td>\n",
       "      <td>1355565 1002 1356965 1002 1358365 1002 1359765...</td>\n",
       "      <td>Flower</td>\n",
       "      <td>0011165.jpg</td>\n",
       "    </tr>\n",
       "    <tr>\n",
       "      <th>4</th>\n",
       "      <td>002be4f.jpg_Fish</td>\n",
       "      <td>233813 878 235213 878 236613 878 238010 881 23...</td>\n",
       "      <td>Fish</td>\n",
       "      <td>002be4f.jpg</td>\n",
       "    </tr>\n",
       "    <tr>\n",
       "      <th>5</th>\n",
       "      <td>002be4f.jpg_Flower</td>\n",
       "      <td>1339279 519 1340679 519 1342079 519 1343479 51...</td>\n",
       "      <td>Flower</td>\n",
       "      <td>002be4f.jpg</td>\n",
       "    </tr>\n",
       "    <tr>\n",
       "      <th>7</th>\n",
       "      <td>002be4f.jpg_Sugar</td>\n",
       "      <td>67495 350 68895 350 70295 350 71695 350 73095 ...</td>\n",
       "      <td>Sugar</td>\n",
       "      <td>002be4f.jpg</td>\n",
       "    </tr>\n",
       "  </tbody>\n",
       "</table>\n",
       "</div>"
      ],
      "text/plain": [
       "          Image_Label                                      EncodedPixels  \\\n",
       "0    0011165.jpg_Fish  264918 937 266318 937 267718 937 269118 937 27...   \n",
       "1  0011165.jpg_Flower  1355565 1002 1356965 1002 1358365 1002 1359765...   \n",
       "4    002be4f.jpg_Fish  233813 878 235213 878 236613 878 238010 881 23...   \n",
       "5  002be4f.jpg_Flower  1339279 519 1340679 519 1342079 519 1343479 51...   \n",
       "7   002be4f.jpg_Sugar  67495 350 68895 350 70295 350 71695 350 73095 ...   \n",
       "\n",
       "    Label        Image  \n",
       "0    Fish  0011165.jpg  \n",
       "1  Flower  0011165.jpg  \n",
       "4    Fish  002be4f.jpg  \n",
       "5  Flower  002be4f.jpg  \n",
       "7   Sugar  002be4f.jpg  "
      ]
     },
     "execution_count": 7,
     "metadata": {},
     "output_type": "execute_result"
    }
   ],
   "source": [
    "#Viewing 1st few rows \n",
    "training_data.head(5)"
   ]
  },
  {
   "cell_type": "code",
   "execution_count": 8,
   "id": "83a88bc9",
   "metadata": {},
   "outputs": [],
   "source": [
    "#Forming training data and validation data\n",
    "training_image, validation_image, training_label, validation_label = train_test_split(\n",
    "    training_data['Image'],\n",
    "    training_data['Label'],\n",
    "    random_state=5,\n",
    "    test_size=0.20\n",
    ")"
   ]
  },
  {
   "cell_type": "code",
   "execution_count": 9,
   "id": "b6f553e6",
   "metadata": {},
   "outputs": [],
   "source": [
    "#Generating the training and validation images\n",
    "training_img_gnrtr = ImageDataGenerator(rescale=1./255, zoom_range=0.10,rotation_range=25)\n",
    "validation_img_gnrtr = ImageDataGenerator(rescale=1./255)"
   ]
  },
  {
   "cell_type": "code",
   "execution_count": 10,
   "id": "4ae2e170",
   "metadata": {},
   "outputs": [],
   "source": [
    "# Creating the validation data\n",
    "validation_data = pd.DataFrame({\n",
    "    'Image': validation_image,\n",
    "    'Label': validation_label\n",
    "})"
   ]
  },
  {
   "cell_type": "code",
   "execution_count": 11,
   "id": "68d4f6fb",
   "metadata": {},
   "outputs": [],
   "source": [
    "#Training images location\n",
    "training_location='C://Muskan/train_images/'"
   ]
  },
  {
   "cell_type": "code",
   "execution_count": 16,
   "id": "4fe34573",
   "metadata": {},
   "outputs": [
    {
     "name": "stdout",
     "output_type": "stream",
     "text": [
      "Found 9965 validated image filenames belonging to 4 classes.\n"
     ]
    },
    {
     "name": "stderr",
     "output_type": "stream",
     "text": [
      "C:\\Users\\alekh\\anaconda3\\envs\\RTutorial\\lib\\site-packages\\keras\\preprocessing\\image.py:1137: UserWarning: Found 1871 invalid image filename(s) in x_col=\"Image\". These filename(s) will be ignored.\n",
      "  warnings.warn(\n"
     ]
    },
    {
     "data": {
      "text/plain": [
       "<keras.preprocessing.image.DataFrameIterator at 0x1e91f914e50>"
      ]
     },
     "execution_count": 16,
     "metadata": {},
     "output_type": "execute_result"
    }
   ],
   "source": [
    "# Extracting the images to create training image data\n",
    "training_images_data = training_img_gnrtr.flow_from_dataframe(\n",
    "    dataframe=training_data,\n",
    "    directory=training_location,\n",
    "    x_col='Image',\n",
    "    batch_size=32,\n",
    "    y_col='Label',\n",
    "    target_size=(256, 256),\n",
    "    class_mode='categorical'\n",
    ")"
   ]
  },
  {
   "cell_type": "code",
   "execution_count": 13,
   "id": "b4f14b04",
   "metadata": {},
   "outputs": [
    {
     "name": "stdout",
     "output_type": "stream",
     "text": [
      "Found 2010 validated image filenames belonging to 4 classes.\n"
     ]
    },
    {
     "name": "stderr",
     "output_type": "stream",
     "text": [
      "C:\\Users\\alekh\\anaconda3\\envs\\RTutorial\\lib\\site-packages\\keras\\preprocessing\\image.py:1137: UserWarning: Found 358 invalid image filename(s) in x_col=\"Image\". These filename(s) will be ignored.\n",
      "  warnings.warn(\n"
     ]
    }
   ],
   "source": [
    "#Extracting the images to create validation image data\n",
    "validation_images_data = validation_img_gnrtr.flow_from_dataframe(\n",
    "    dataframe=validation_data,\n",
    "    directory=training_location,\n",
    "    x_col='Image',\n",
    "    batch_size=32,\n",
    "    y_col='Label',\n",
    "    target_size=(256, 256),\n",
    "    class_mode='categorical'\n",
    ")"
   ]
  },
  {
   "cell_type": "code",
   "execution_count": 19,
   "id": "47b6d891",
   "metadata": {},
   "outputs": [],
   "source": [
    "#CNN model architecture\n",
    "drone_cloud_model = Sequential()\n",
    "drone_cloud_model.add(Conv2D(32, (3, 3), activation='relu', input_shape=(256, 256, 3)))\n",
    "drone_cloud_model.add(BatchNormalization())\n",
    "drone_cloud_model.add(Dropout(0.40))\n",
    "drone_cloud_model.add(MaxPooling2D((2, 2)))\n",
    "drone_cloud_model.add(Conv2D(64, (3, 3), activation='relu'))\n",
    "drone_cloud_model.add(BatchNormalization())\n",
    "drone_cloud_model.add(Dropout(0.40))\n",
    "drone_cloud_model.add(MaxPooling2D((2, 2)))\n",
    "drone_cloud_model.add(Conv2D(128, (3, 3), activation='relu'))\n",
    "drone_cloud_model.add(Dropout(0.40))\n",
    "drone_cloud_model.add(MaxPooling2D((2, 2)))\n",
    "drone_cloud_model.add(Conv2D(256, (3, 3), activation='relu'))\n",
    "drone_cloud_model.add(BatchNormalization())\n",
    "drone_cloud_model.add(Dropout(0.40))\n",
    "drone_cloud_model.add(MaxPooling2D((2, 2)))\n",
    "drone_cloud_model.add(Flatten())\n",
    "drone_cloud_model.add(Dense(512, activation='relu'))\n",
    "drone_cloud_model.add(Dropout(0.40))\n",
    "drone_cloud_model.add(Dense(256, activation='relu'))\n",
    "drone_cloud_model.add(Dropout(0.40))\n",
    "drone_cloud_model.add(Dense(4, activation='softmax'))"
   ]
  },
  {
   "cell_type": "code",
   "execution_count": 20,
   "id": "97af849c",
   "metadata": {},
   "outputs": [],
   "source": [
    "#Compiling step for the CNN model\n",
    "drone_cloud_model.compile(loss='categorical_crossentropy',optimizer='adam',metrics=['accuracy'])"
   ]
  },
  {
   "cell_type": "code",
   "execution_count": 26,
   "id": "7b268f49",
   "metadata": {},
   "outputs": [
    {
     "name": "stdout",
     "output_type": "stream",
     "text": [
      "Epoch 1/3\n",
      "7/7 [==============================] - 41s 6s/step - loss: 26.9718 - accuracy: 0.2642 - val_loss: 2.9174 - val_accuracy: 0.1818\n",
      "Epoch 2/3\n",
      "7/7 [==============================] - 35s 5s/step - loss: 21.1089 - accuracy: 0.2383 - val_loss: 11.8557 - val_accuracy: 0.2045\n",
      "Epoch 3/3\n",
      "7/7 [==============================] - 37s 5s/step - loss: 12.4630 - accuracy: 0.3005 - val_loss: 26.7966 - val_accuracy: 0.2273\n"
     ]
    }
   ],
   "source": [
    "# Training the drone cloud patter analysis CNN model\n",
    "history = drone_cloud_model.fit(training_images_data, epochs=3, validation_data=validation_images_data)"
   ]
  },
  {
   "cell_type": "code",
   "execution_count": 28,
   "id": "1be34400",
   "metadata": {},
   "outputs": [
    {
     "data": {
      "text/plain": [
       "Text(0.5, 0, 'Epoches Count')"
      ]
     },
     "execution_count": 28,
     "metadata": {},
     "output_type": "execute_result"
    },
    {
     "data": {
      "image/png": "[encoded data removed]",
      "text/plain": [
       "<Figure size 640x480 with 1 Axes>"
      ]
     },
     "metadata": {},
     "output_type": "display_data"
    }
   ],
   "source": [
    "#Accuracy and Validation accuracy visualisation\n",
    "acc = history.history['accuracy']\n",
    "val_acc = history.history['val_accuracy']\n",
    "traing_loss = history.history['loss']\n",
    "epochs = range(1, len(traing_loss) + 1)\n",
    "plt.plot(epochs, acc, 'g--')\n",
    "plt.plot(epochs, val_acc, 'b-')\n",
    "plt.legend(['Accuracy','Validation Accuracy'])\n",
    "plt.ylabel('Accuracy Value')\n",
    "plt.xlabel('Epoches Count')"
   ]
  },
  {
   "cell_type": "code",
   "execution_count": 30,
   "id": "344f6c38",
   "metadata": {},
   "outputs": [
    {
     "data": {
      "text/plain": [
       "Text(0.5, 0, 'Epoches Count')"
      ]
     },
     "execution_count": 30,
     "metadata": {},
     "output_type": "execute_result"
    },
    {
     "data": {
      "image/png": "[encoded data removed]",
      "text/plain": [
       "<Figure size 640x480 with 1 Axes>"
      ]
     },
     "metadata": {},
     "output_type": "display_data"
    }
   ],
   "source": [
    "#Loss visualisation\n",
    "traing_loss = history.history['loss']\n",
    "epochs = range(1, len(traing_loss) + 1)\n",
    "plt.plot(epochs, traing_loss, 'r--')\n",
    "plt.ylabel('Loss Value')\n",
    "plt.legend(['Loss'])\n",
    "plt.xlabel('Epoches Count')"
   ]
  },
  {
   "cell_type": "code",
   "execution_count": null,
   "id": "4c163249",
   "metadata": {},
   "outputs": [],
   "source": []
  }
 ],
 "metadata": {
  "kernelspec": {
   "display_name": "Python 3 (ipykernel)",
   "language": "python",
   "name": "python3"
  },
  "language_info": {
   "codemirror_mode": {
    "name": "ipython",
    "version": 3
   },
   "file_extension": ".py",
   "mimetype": "text/x-python",
   "name": "python",
   "nbconvert_exporter": "python",
   "pygments_lexer": "ipython3",
   "version": "3.9.13"
  }
 },
 "nbformat": 4,
 "nbformat_minor": 5
}
